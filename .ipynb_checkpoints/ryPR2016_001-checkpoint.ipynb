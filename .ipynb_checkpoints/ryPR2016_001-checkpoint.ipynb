{
 "cells": [
  {
   "cell_type": "markdown",
   "metadata": {},
   "source": [
    "## Review on Python Programming Language\n",
    "\n",
    "### My presentation on PyconJp 2016\n",
    "\n",
    "1. Python 程式 英翻中 自動化 https://github.com/renyuanL/ryYongShin2016\n",
    "2. KaraOke scoring,    https://github.com/renyuanL/ryKaraOke\n",
    "\n",
    "\n"
   ]
  },
  {
   "cell_type": "markdown",
   "metadata": {},
   "source": [
    "## SciPy 2016 Scikit-learn Tutorial\n",
    "\n",
    "https://github.com/rasbt/scipy-2016-sklearn\n",
    "\n",
    "\n",
    "## Python Machine Learning\n",
    "http://sebastianraschka.com/books.html\n",
    "\n",
    "\n",
    "## An introduction to machine learning with scikit-learn\n",
    "\n",
    "http://scikit-learn.org/stable/tutorial/basic/tutorial.html\n",
    "\n",
    "\n",
    "\n",
    "\n",
    "## Machine Learning Part 1 | SciPy 2016 Tutorial | Andreas Mueller & Sebastian Raschka\n",
    "\n",
    "https://youtu.be/OB1reY6IX-o?list=PLYx7XA2nY5Gf37zYZMw6OqGFRPjB1jCy6\n",
    "    "
   ]
  },
  {
   "cell_type": "markdown",
   "metadata": {
    "collapsed": true
   },
   "source": [
    "## Further Reading\n",
    "\n",
    "Predictive modeling, supervised machine learning, and pattern classification\n",
    "— the big picture\n",
    "\n",
    "http://sebastianraschka.com/Articles/2014_intro_supervised_learning.html\n",
    "\n",
    "https://speakerdeck.com/rasbt/learning-scikit-learn-an-introduction-to-machine-learning-in-python-at-pydata-chicago-2016\n",
    "\n"
   ]
  },
  {
   "cell_type": "markdown",
   "metadata": {
    "collapsed": true
   },
   "source": [
    "\n",
    "\n"
   ]
  }
 ],
 "metadata": {
  "kernelspec": {
   "display_name": "Python [Root]",
   "language": "python",
   "name": "Python [Root]"
  },
  "language_info": {
   "codemirror_mode": {
    "name": "ipython",
    "version": 3
   },
   "file_extension": ".py",
   "mimetype": "text/x-python",
   "name": "python",
   "nbconvert_exporter": "python",
   "pygments_lexer": "ipython3",
   "version": "3.5.2"
  }
 },
 "nbformat": 4,
 "nbformat_minor": 0
}
