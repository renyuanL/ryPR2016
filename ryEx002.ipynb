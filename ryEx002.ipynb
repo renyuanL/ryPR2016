{
 "cells": [
  {
   "cell_type": "markdown",
   "metadata": {},
   "source": [
    "## Follow : 02 Scientific Computing Tools in Python\n",
    "之練習\n"
   ]
  },
  {
   "cell_type": "code",
   "execution_count": 10,
   "metadata": {
    "collapsed": false
   },
   "outputs": [
    {
     "name": "stdout",
     "output_type": "stream",
     "text": [
      "[[ 0.69646919  0.28613933  0.22685145  0.55131477  0.71946897]\n",
      " [ 0.42310646  0.9807642   0.68482974  0.4809319   0.39211752]\n",
      " [ 0.34317802  0.72904971  0.43857224  0.0596779   0.39804426]]\n"
     ]
    }
   ],
   "source": [
    "import numpy as np\n",
    "\n",
    "rs= np.random.RandomState(seed= 123) # 設定 seed，會讓所產生的 隨機變數【固定】，對教學說明很有幫助。\n",
    "\n",
    "X= rs.uniform(low= 0.0, high= 1.0, size= (3,5))\n",
    "'''\n",
    "array([[ 0.69646919,  0.28613933,  0.22685145,  0.55131477,  0.71946897],\n",
    "       [ 0.42310646,  0.9807642 ,  0.68482974,  0.4809319 ,  0.39211752],\n",
    "       [ 0.34317802,  0.72904971,  0.43857224,  0.0596779 ,  0.39804426]])\n",
    "'''\n",
    "print(X)"
   ]
  },
  {
   "cell_type": "code",
   "execution_count": 35,
   "metadata": {
    "collapsed": false
   },
   "outputs": [
    {
     "name": "stdout",
     "output_type": "stream",
     "text": [
      "0.696469185598\n",
      "[ 0.69646919  0.28613933  0.22685145  0.55131477  0.71946897]\n",
      "[ 0.69646919  0.42310646  0.34317802]\n",
      "[ 0.69646919  0.28613933  0.22685145  0.55131477  0.71946897]\n",
      "[ 0.69646919  0.42310646  0.34317802]\n",
      "[[ 0.69646919]\n",
      " [ 0.42310646]\n",
      " [ 0.34317802]]\n",
      "(5,)\n",
      "(3,)\n",
      "(3, 1)\n"
     ]
    }
   ],
   "source": [
    "print(X[0,0])\n",
    "print(X[0,:]) # 取出 橫 row     0，   顯示為 橫 row\n",
    "print(X[:,0]) # 取出 縱 collumn 0，但 顯示為 橫 row\n",
    "\n",
    "row0= X[0,:]\n",
    "col0= X[:,0]\n",
    "\n",
    "print(row0)\n",
    "print(col0)\n",
    "print(col0[:,np.newaxis]) # 若要讓 col0 顯示為 縱，需要如此做。\n",
    "\n",
    "# 請注意一下，他們的 shape 之間的差異。\n",
    "print(row0.shape)\n",
    "print(col0.shape)\n",
    "print(col0[:,np.newaxis].shape)\n"
   ]
  },
  {
   "cell_type": "code",
   "execution_count": 41,
   "metadata": {
    "collapsed": false
   },
   "outputs": [
    {
     "name": "stdout",
     "output_type": "stream",
     "text": [
      "[ 0.          0.11111111  0.22222222  0.33333333  0.44444444  0.55555556\n",
      "  0.66666667  0.77777778  0.88888889  1.        ]\n",
      "[ 0.   0.1  0.2  0.3  0.4  0.5  0.6  0.7  0.8  0.9  1. ]\n"
     ]
    }
   ],
   "source": [
    "y10= np.linspace(0, 1, 10) # 0 .. 1 之間，共取 10 點\n",
    "y11= np.linspace(0, 1, 11) # 0 .. 1 之間，共取 11 點，頭尾都取，多加 1點比較好看。\n",
    "\n",
    "print(y10)\n",
    "print(y11)\n"
   ]
  },
  {
   "cell_type": "code",
   "execution_count": 52,
   "metadata": {
    "collapsed": false
   },
   "outputs": [
    {
     "name": "stdout",
     "output_type": "stream",
     "text": [
      "[ 0.   0.1  0.2  0.3  0.4  0.5  0.6  0.7  0.8  0.9  1. ]\n",
      "[[ 0. ]\n",
      " [ 0.1]\n",
      " [ 0.2]\n",
      " [ 0.3]\n",
      " [ 0.4]\n",
      " [ 0.5]\n",
      " [ 0.6]\n",
      " [ 0.7]\n",
      " [ 0.8]\n",
      " [ 0.9]\n",
      " [ 1. ]]\n"
     ]
    }
   ],
   "source": [
    "# 再強調 橫、縱 形狀的 array 之表示\n",
    "print(y11)\n",
    "print(y11[:,np.newaxis])"
   ]
  },
  {
   "cell_type": "code",
   "execution_count": 53,
   "metadata": {
    "collapsed": false
   },
   "outputs": [
    {
     "data": {
      "text/plain": [
       "array([[ 0.69646919,  0.28613933,  0.22685145,  0.55131477,  0.71946897],\n",
       "       [ 0.42310646,  0.9807642 ,  0.68482974,  0.4809319 ,  0.39211752],\n",
       "       [ 0.34317802,  0.72904971,  0.43857224,  0.0596779 ,  0.39804426]])"
      ]
     },
     "execution_count": 53,
     "metadata": {},
     "output_type": "execute_result"
    }
   ],
   "source": [
    "X"
   ]
  },
  {
   "cell_type": "code",
   "execution_count": 54,
   "metadata": {
    "collapsed": false
   },
   "outputs": [
    {
     "data": {
      "text/plain": [
       "(3, 5)"
      ]
     },
     "execution_count": 54,
     "metadata": {},
     "output_type": "execute_result"
    }
   ],
   "source": [
    "X.shape"
   ]
  },
  {
   "cell_type": "code",
   "execution_count": 66,
   "metadata": {
    "collapsed": false
   },
   "outputs": [
    {
     "name": "stdout",
     "output_type": "stream",
     "text": [
      "[[ 0.69646919  0.28613933  0.22685145  0.55131477  0.71946897  0.42310646\n",
      "   0.9807642   0.68482974  0.4809319   0.39211752  0.34317802  0.72904971\n",
      "   0.43857224  0.0596779   0.39804426]] [[ 0.69646919  0.28613933  0.22685145  0.55131477  0.71946897]\n",
      " [ 0.42310646  0.9807642   0.68482974  0.4809319   0.39211752]\n",
      " [ 0.34317802  0.72904971  0.43857224  0.0596779   0.39804426]] [[ 0.69646919  0.28613933  0.22685145]\n",
      " [ 0.55131477  0.71946897  0.42310646]\n",
      " [ 0.9807642   0.68482974  0.4809319 ]\n",
      " [ 0.39211752  0.34317802  0.72904971]\n",
      " [ 0.43857224  0.0596779   0.39804426]] [[ 0.69646919]\n",
      " [ 0.28613933]\n",
      " [ 0.22685145]\n",
      " [ 0.55131477]\n",
      " [ 0.71946897]\n",
      " [ 0.42310646]\n",
      " [ 0.9807642 ]\n",
      " [ 0.68482974]\n",
      " [ 0.4809319 ]\n",
      " [ 0.39211752]\n",
      " [ 0.34317802]\n",
      " [ 0.72904971]\n",
      " [ 0.43857224]\n",
      " [ 0.0596779 ]\n",
      " [ 0.39804426]]\n",
      "(1, 15) (3, 5) (5, 3) (15, 1)\n"
     ]
    }
   ],
   "source": [
    "# 改變 ndarray 的 shape\n",
    "\n",
    "x1=  X.reshape(1,-1)\n",
    "x3=  X.reshape(3,-1)\n",
    "x5=  X.reshape(5,-1)\n",
    "x15= X.reshape(15,-1)\n",
    "print(x1, x3, x5, x15)\n",
    "print(x1.shape, x3.shape, x5.shape, x15.shape)\n",
    "\n"
   ]
  },
  {
   "cell_type": "code",
   "execution_count": 75,
   "metadata": {
    "collapsed": false
   },
   "outputs": [
    {
     "data": {
      "text/plain": [
       "((15,), (1, 15), (15, 1))"
      ]
     },
     "execution_count": 75,
     "metadata": {},
     "output_type": "execute_result"
    }
   ],
   "source": [
    "# 特別注意以下3種 \"1維\" 陣列之 形狀差異。\n",
    "\n",
    "xf=  X.flatten()\n",
    "x1=  X.reshape(1,-1)\n",
    "x_1= X.reshape(-1,1)\n",
    "\n",
    "xf, x1, x_1\n",
    "xf.shape, x1.shape, x_1.shape\n",
    "\n"
   ]
  },
  {
   "cell_type": "code",
   "execution_count": 76,
   "metadata": {
    "collapsed": false
   },
   "outputs": [
    {
     "data": {
      "text/plain": [
       "array([[ 0.69646919,  0.28613933,  0.22685145,  0.55131477,  0.71946897],\n",
       "       [ 0.42310646,  0.9807642 ,  0.68482974,  0.4809319 ,  0.39211752],\n",
       "       [ 0.34317802,  0.72904971,  0.43857224,  0.0596779 ,  0.39804426]])"
      ]
     },
     "execution_count": 76,
     "metadata": {},
     "output_type": "execute_result"
    }
   ],
   "source": [
    "X"
   ]
  },
  {
   "cell_type": "code",
   "execution_count": 137,
   "metadata": {
    "collapsed": false
   },
   "outputs": [
    {
     "data": {
      "text/plain": [
       "array([[ 0.69646919,  0.22685145,  0.71946897],\n",
       "       [ 0.42310646,  0.68482974,  0.39211752],\n",
       "       [ 0.34317802,  0.43857224,  0.39804426]])"
      ]
     },
     "execution_count": 137,
     "metadata": {},
     "output_type": "execute_result"
    }
   ],
   "source": [
    "# 取出 X 的 col 0, 2, 4\n",
    "X[:, [0,2,4]]\n"
   ]
  },
  {
   "cell_type": "code",
   "execution_count": 136,
   "metadata": {
    "collapsed": false
   },
   "outputs": [
    {
     "data": {
      "text/plain": [
       "(array([[ 0.69646919,  0.28613933,  0.22685145,  0.55131477,  0.71946897],\n",
       "        [ 0.42310646,  0.9807642 ,  0.68482974,  0.4809319 ,  0.39211752],\n",
       "        [ 0.34317802,  0.72904971,  0.43857224,  0.0596779 ,  0.39804426]]),\n",
       " [4, 1, 2, 0, 3],\n",
       " array([[ 0.71946897,  0.28613933,  0.22685145,  0.69646919,  0.55131477],\n",
       "        [ 0.39211752,  0.9807642 ,  0.68482974,  0.42310646,  0.4809319 ],\n",
       "        [ 0.39804426,  0.72904971,  0.43857224,  0.34317802,  0.0596779 ]]))"
      ]
     },
     "execution_count": 136,
     "metadata": {},
     "output_type": "execute_result"
    }
   ],
   "source": [
    "# 把 X 的 縱 collumn 隨便亂調\n",
    "col= list(range(X.shape[1]))\n",
    "np.random.shuffle(col)\n",
    "X, col, X[:, col]"
   ]
  },
  {
   "cell_type": "code",
   "execution_count": 135,
   "metadata": {
    "collapsed": false
   },
   "outputs": [
    {
     "data": {
      "text/plain": [
       "(array([[ 0.69646919,  0.28613933,  0.22685145,  0.55131477,  0.71946897],\n",
       "        [ 0.42310646,  0.9807642 ,  0.68482974,  0.4809319 ,  0.39211752],\n",
       "        [ 0.34317802,  0.72904971,  0.43857224,  0.0596779 ,  0.39804426]]),\n",
       " [2, 1, 0],\n",
       " array([[ 0.34317802,  0.72904971,  0.43857224,  0.0596779 ,  0.39804426],\n",
       "        [ 0.42310646,  0.9807642 ,  0.68482974,  0.4809319 ,  0.39211752],\n",
       "        [ 0.69646919,  0.28613933,  0.22685145,  0.55131477,  0.71946897]]))"
      ]
     },
     "execution_count": 135,
     "metadata": {},
     "output_type": "execute_result"
    }
   ],
   "source": [
    "# 把 X 的 橫 row 隨便亂調\n",
    "row= list(range(X.shape[0]))\n",
    "np.random.shuffle(row)\n",
    "X, row, X[row, :]"
   ]
  },
  {
   "cell_type": "markdown",
   "metadata": {},
   "source": [
    "## ryComment:\n",
    "\n",
    "有關 矩陣 matrix，\n",
    "台灣過去的數學教育採用 橫向 row 為【列】，縱向 collumn 為【行】之命名方式，\n",
    "恰與日本所用漢字相反，日本採用 橫向 row 為【行】，縱向 collumn 為【列】之命名方式。\n",
    "\n",
    "我個人猜測是台灣過去的政府刻意【去日本化】的結果！\n",
    "\n",
    "後來的中華人民共和國也採用了日本的命名方式，\n",
    "結果造就了唯獨台灣使用 row=橫=列，collumn=縱=行 的特異。\n",
    "\n",
    "我個人的意見是台灣的數學界應該要改過來，讓 row=橫=【行】，collumn=縱=【列】\n",
    "\n",
    "原因至少有以下幾項：\n",
    "1. 【橫行霸道】是一個有名的四字成語，橫行橫行，橫==行\n",
    "2. 描述一個【行列矩陣】時，常說：這是一個 5x3 的矩陣，可以很直覺的說這是 【5 行，3 列】，不必倒置成 5列 3行。"
   ]
  },
  {
   "cell_type": "code",
   "execution_count": null,
   "metadata": {
    "collapsed": true
   },
   "outputs": [],
   "source": []
  }
 ],
 "metadata": {
  "anaconda-cloud": {},
  "kernelspec": {
   "display_name": "Python [Root]",
   "language": "python",
   "name": "Python [Root]"
  },
  "language_info": {
   "codemirror_mode": {
    "name": "ipython",
    "version": 3
   },
   "file_extension": ".py",
   "mimetype": "text/x-python",
   "name": "python",
   "nbconvert_exporter": "python",
   "pygments_lexer": "ipython3",
   "version": "3.5.2"
  }
 },
 "nbformat": 4,
 "nbformat_minor": 0
}
