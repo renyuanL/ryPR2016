{
 "cells": [
  {
   "cell_type": "markdown",
   "metadata": {},
   "source": [
    "## Follow : 02 Scientific Computing Tools in Python\n",
    "之練習\n"
   ]
  },
  {
   "cell_type": "code",
   "execution_count": 48,
   "metadata": {
    "collapsed": false
   },
   "outputs": [
    {
     "name": "stdout",
     "output_type": "stream",
     "text": [
      "[[ 0.69646919  0.28613933  0.22685145  0.55131477  0.71946897]\n",
      " [ 0.42310646  0.9807642   0.68482974  0.4809319   0.39211752]\n",
      " [ 0.34317802  0.72904971  0.43857224  0.0596779   0.39804426]]\n"
     ]
    }
   ],
   "source": [
    "import numpy as np\n",
    "\n",
    "rs= np.random.RandomState(seed= 123) # 設定 seed，會讓所產生的 隨機變數【固定】，對教學說明很有幫助。\n",
    "\n",
    "X= rs.uniform(low= 0.0, high= 1.0, size= (3,5))\n",
    "'''\n",
    "array([[ 0.69646919,  0.28613933,  0.22685145,  0.55131477,  0.71946897],\n",
    "       [ 0.42310646,  0.9807642 ,  0.68482974,  0.4809319 ,  0.39211752],\n",
    "       [ 0.34317802,  0.72904971,  0.43857224,  0.0596779 ,  0.39804426]])\n",
    "'''\n",
    "print(X)"
   ]
  },
  {
   "cell_type": "code",
   "execution_count": 49,
   "metadata": {
    "collapsed": false
   },
   "outputs": [
    {
     "name": "stdout",
     "output_type": "stream",
     "text": [
      "0.696469185598\n",
      "[ 0.69646919  0.28613933  0.22685145  0.55131477  0.71946897]\n",
      "[ 0.69646919  0.42310646  0.34317802]\n",
      "[ 0.69646919  0.28613933  0.22685145  0.55131477  0.71946897]\n",
      "[ 0.69646919  0.42310646  0.34317802]\n",
      "[[ 0.69646919]\n",
      " [ 0.42310646]\n",
      " [ 0.34317802]]\n",
      "(5,)\n",
      "(3,)\n",
      "(3, 1)\n"
     ]
    }
   ],
   "source": [
    "print(X[0,0])\n",
    "print(X[0,:]) # 取出 橫 row     0，   顯示為 橫 row\n",
    "print(X[:,0]) # 取出 縱 collumn 0，但 顯示為 橫 row\n",
    "\n",
    "row0= X[0,:]\n",
    "col0= X[:,0]\n",
    "\n",
    "print(row0)\n",
    "print(col0)\n",
    "print(col0[:,np.newaxis]) # 若要讓 col0 顯示為 縱，需要如此做。\n",
    "\n",
    "# 請注意一下，他們的 shape 之間的差異。\n",
    "print(row0.shape)\n",
    "print(col0.shape)\n",
    "print(col0[:,np.newaxis].shape)\n"
   ]
  },
  {
   "cell_type": "code",
   "execution_count": 50,
   "metadata": {
    "collapsed": false
   },
   "outputs": [
    {
     "name": "stdout",
     "output_type": "stream",
     "text": [
      "[ 0.          0.11111111  0.22222222  0.33333333  0.44444444  0.55555556\n",
      "  0.66666667  0.77777778  0.88888889  1.        ]\n",
      "[ 0.   0.1  0.2  0.3  0.4  0.5  0.6  0.7  0.8  0.9  1. ]\n"
     ]
    }
   ],
   "source": [
    "y10= np.linspace(0, 1, 10) # 0 .. 1 之間，共取 10 點\n",
    "y11= np.linspace(0, 1, 11) # 0 .. 1 之間，共取 11 點，頭尾都取，多加 1點比較好看。\n",
    "\n",
    "print(y10)\n",
    "print(y11)\n"
   ]
  },
  {
   "cell_type": "code",
   "execution_count": 51,
   "metadata": {
    "collapsed": false
   },
   "outputs": [
    {
     "name": "stdout",
     "output_type": "stream",
     "text": [
      "[ 0.   0.1  0.2  0.3  0.4  0.5  0.6  0.7  0.8  0.9  1. ]\n",
      "[[ 0. ]\n",
      " [ 0.1]\n",
      " [ 0.2]\n",
      " [ 0.3]\n",
      " [ 0.4]\n",
      " [ 0.5]\n",
      " [ 0.6]\n",
      " [ 0.7]\n",
      " [ 0.8]\n",
      " [ 0.9]\n",
      " [ 1. ]]\n"
     ]
    }
   ],
   "source": [
    "# 再強調 橫、縱 形狀的 array 之表示\n",
    "print(y11)\n",
    "print(y11[:,np.newaxis])"
   ]
  },
  {
   "cell_type": "code",
   "execution_count": 52,
   "metadata": {
    "collapsed": false
   },
   "outputs": [
    {
     "data": {
      "text/plain": [
       "array([[ 0.69646919,  0.28613933,  0.22685145,  0.55131477,  0.71946897],\n",
       "       [ 0.42310646,  0.9807642 ,  0.68482974,  0.4809319 ,  0.39211752],\n",
       "       [ 0.34317802,  0.72904971,  0.43857224,  0.0596779 ,  0.39804426]])"
      ]
     },
     "execution_count": 52,
     "metadata": {},
     "output_type": "execute_result"
    }
   ],
   "source": [
    "X"
   ]
  },
  {
   "cell_type": "code",
   "execution_count": 53,
   "metadata": {
    "collapsed": false
   },
   "outputs": [
    {
     "data": {
      "text/plain": [
       "(3, 5)"
      ]
     },
     "execution_count": 53,
     "metadata": {},
     "output_type": "execute_result"
    }
   ],
   "source": [
    "X.shape"
   ]
  },
  {
   "cell_type": "code",
   "execution_count": 54,
   "metadata": {
    "collapsed": false
   },
   "outputs": [
    {
     "name": "stdout",
     "output_type": "stream",
     "text": [
      "[[ 0.69646919  0.28613933  0.22685145  0.55131477  0.71946897  0.42310646\n",
      "   0.9807642   0.68482974  0.4809319   0.39211752  0.34317802  0.72904971\n",
      "   0.43857224  0.0596779   0.39804426]] [[ 0.69646919  0.28613933  0.22685145  0.55131477  0.71946897]\n",
      " [ 0.42310646  0.9807642   0.68482974  0.4809319   0.39211752]\n",
      " [ 0.34317802  0.72904971  0.43857224  0.0596779   0.39804426]] [[ 0.69646919  0.28613933  0.22685145]\n",
      " [ 0.55131477  0.71946897  0.42310646]\n",
      " [ 0.9807642   0.68482974  0.4809319 ]\n",
      " [ 0.39211752  0.34317802  0.72904971]\n",
      " [ 0.43857224  0.0596779   0.39804426]] [[ 0.69646919]\n",
      " [ 0.28613933]\n",
      " [ 0.22685145]\n",
      " [ 0.55131477]\n",
      " [ 0.71946897]\n",
      " [ 0.42310646]\n",
      " [ 0.9807642 ]\n",
      " [ 0.68482974]\n",
      " [ 0.4809319 ]\n",
      " [ 0.39211752]\n",
      " [ 0.34317802]\n",
      " [ 0.72904971]\n",
      " [ 0.43857224]\n",
      " [ 0.0596779 ]\n",
      " [ 0.39804426]]\n",
      "(1, 15) (3, 5) (5, 3) (15, 1)\n"
     ]
    }
   ],
   "source": [
    "# 改變 ndarray 的 shape\n",
    "\n",
    "x1=  X.reshape(1,-1)\n",
    "x3=  X.reshape(3,-1)\n",
    "x5=  X.reshape(5,-1)\n",
    "x15= X.reshape(15,-1)\n",
    "print(x1, x3, x5, x15)\n",
    "print(x1.shape, x3.shape, x5.shape, x15.shape)\n",
    "\n"
   ]
  },
  {
   "cell_type": "code",
   "execution_count": 55,
   "metadata": {
    "collapsed": false
   },
   "outputs": [
    {
     "data": {
      "text/plain": [
       "((15,), (1, 15), (15, 1))"
      ]
     },
     "execution_count": 55,
     "metadata": {},
     "output_type": "execute_result"
    }
   ],
   "source": [
    "# 特別注意以下3種 \"1維\" 陣列之 形狀差異。\n",
    "\n",
    "xf=  X.flatten()\n",
    "x1=  X.reshape(1,-1)\n",
    "x_1= X.reshape(-1,1)\n",
    "\n",
    "xf, x1, x_1\n",
    "xf.shape, x1.shape, x_1.shape\n",
    "\n"
   ]
  },
  {
   "cell_type": "code",
   "execution_count": 56,
   "metadata": {
    "collapsed": false
   },
   "outputs": [
    {
     "data": {
      "text/plain": [
       "array([[ 0.69646919,  0.28613933,  0.22685145,  0.55131477,  0.71946897],\n",
       "       [ 0.42310646,  0.9807642 ,  0.68482974,  0.4809319 ,  0.39211752],\n",
       "       [ 0.34317802,  0.72904971,  0.43857224,  0.0596779 ,  0.39804426]])"
      ]
     },
     "execution_count": 56,
     "metadata": {},
     "output_type": "execute_result"
    }
   ],
   "source": [
    "X"
   ]
  },
  {
   "cell_type": "code",
   "execution_count": 57,
   "metadata": {
    "collapsed": false
   },
   "outputs": [
    {
     "data": {
      "text/plain": [
       "array([[ 0.69646919,  0.22685145,  0.71946897],\n",
       "       [ 0.42310646,  0.68482974,  0.39211752],\n",
       "       [ 0.34317802,  0.43857224,  0.39804426]])"
      ]
     },
     "execution_count": 57,
     "metadata": {},
     "output_type": "execute_result"
    }
   ],
   "source": [
    "# 取出 X 的 col 0, 2, 4\n",
    "X[:, [0,2,4]]\n"
   ]
  },
  {
   "cell_type": "code",
   "execution_count": 58,
   "metadata": {
    "collapsed": false
   },
   "outputs": [
    {
     "data": {
      "text/plain": [
       "(array([[ 0.69646919,  0.28613933,  0.22685145,  0.55131477,  0.71946897],\n",
       "        [ 0.42310646,  0.9807642 ,  0.68482974,  0.4809319 ,  0.39211752],\n",
       "        [ 0.34317802,  0.72904971,  0.43857224,  0.0596779 ,  0.39804426]]),\n",
       " [2, 4, 0, 3, 1],\n",
       " array([[ 0.22685145,  0.71946897,  0.69646919,  0.55131477,  0.28613933],\n",
       "        [ 0.68482974,  0.39211752,  0.42310646,  0.4809319 ,  0.9807642 ],\n",
       "        [ 0.43857224,  0.39804426,  0.34317802,  0.0596779 ,  0.72904971]]))"
      ]
     },
     "execution_count": 58,
     "metadata": {},
     "output_type": "execute_result"
    }
   ],
   "source": [
    "# 把 X 的 縱 collumn 隨便亂調\n",
    "col= list(range(X.shape[1]))\n",
    "np.random.shuffle(col)\n",
    "X, col, X[:, col]"
   ]
  },
  {
   "cell_type": "code",
   "execution_count": 59,
   "metadata": {
    "collapsed": false
   },
   "outputs": [
    {
     "data": {
      "text/plain": [
       "(array([[ 0.69646919,  0.28613933,  0.22685145,  0.55131477,  0.71946897],\n",
       "        [ 0.42310646,  0.9807642 ,  0.68482974,  0.4809319 ,  0.39211752],\n",
       "        [ 0.34317802,  0.72904971,  0.43857224,  0.0596779 ,  0.39804426]]),\n",
       " [0, 2, 1],\n",
       " array([[ 0.69646919,  0.28613933,  0.22685145,  0.55131477,  0.71946897],\n",
       "        [ 0.34317802,  0.72904971,  0.43857224,  0.0596779 ,  0.39804426],\n",
       "        [ 0.42310646,  0.9807642 ,  0.68482974,  0.4809319 ,  0.39211752]]))"
      ]
     },
     "execution_count": 59,
     "metadata": {},
     "output_type": "execute_result"
    }
   ],
   "source": [
    "# 把 X 的 橫 row 隨便亂調\n",
    "row= list(range(X.shape[0]))\n",
    "np.random.shuffle(row)\n",
    "X, row, X[row, :]"
   ]
  },
  {
   "cell_type": "markdown",
   "metadata": {},
   "source": [
    "## ryComment:\n",
    "\n",
    "有關 矩陣 matrix，\n",
    "台灣過去的數學教育採用 橫向 row 為【列】，縱向 collumn 為【行】之命名方式，\n",
    "恰與日本所用漢字相反，日本採用 橫向 row 為【行】，縱向 collumn 為【列】之命名方式。\n",
    "\n",
    "我個人猜測是台灣過去的政府刻意【去日本化】的結果！\n",
    "\n",
    "後來的中華人民共和國也採用了日本的命名方式，\n",
    "結果造就了唯獨台灣使用 row=橫=列，collumn=縱=行 的特異。\n",
    "\n",
    "我個人的意見是台灣的數學界應該要改過來，讓 row=橫=【行】，collumn=縱=【列】\n",
    "\n",
    "原因至少有以下幾項：\n",
    "1. 【橫行霸道】是一個有名的四字成語，橫行橫行，橫==行\n",
    "2. 描述一個【行列矩陣】時，常說：這是一個 5x3 的矩陣，可以很直覺的說這是 【5 行，3 列】，不必倒置成 5列 3行。"
   ]
  },
  {
   "cell_type": "code",
   "execution_count": 60,
   "metadata": {
    "collapsed": false
   },
   "outputs": [],
   "source": [
    "## %pylab inline"
   ]
  },
  {
   "cell_type": "code",
   "execution_count": 61,
   "metadata": {
    "collapsed": true
   },
   "outputs": [],
   "source": [
    "import pylab as pl"
   ]
  },
  {
   "cell_type": "code",
   "execution_count": 62,
   "metadata": {
    "collapsed": true
   },
   "outputs": [],
   "source": [
    "x= np.linspace(0, 10, 101)"
   ]
  },
  {
   "cell_type": "code",
   "execution_count": 63,
   "metadata": {
    "collapsed": false
   },
   "outputs": [
    {
     "data": {
      "text/plain": [
       "[<matplotlib.lines.Line2D at 0x22bbb4b4198>]"
      ]
     },
     "execution_count": 63,
     "metadata": {},
     "output_type": "execute_result"
    }
   ],
   "source": [
    "y= np.sin(x)\n",
    "pl.plot(x,y)"
   ]
  },
  {
   "cell_type": "code",
   "execution_count": 64,
   "metadata": {
    "collapsed": false
   },
   "outputs": [
    {
     "data": {
      "text/plain": [
       "<matplotlib.collections.PathCollection at 0x22bbb4b4da0>"
      ]
     },
     "execution_count": 64,
     "metadata": {},
     "output_type": "execute_result"
    }
   ],
   "source": [
    "x= np.random.normal(size=100)\n",
    "y= np.random.normal(size=100)\n",
    "#pl.plot(x,y)\n",
    "pl.scatter(x,y)"
   ]
  },
  {
   "cell_type": "code",
   "execution_count": 65,
   "metadata": {
    "collapsed": false
   },
   "outputs": [
    {
     "data": {
      "text/plain": [
       "array([[ 0.,  1.,  2.,  3.,  4.],\n",
       "       [ 1.,  2.,  3.,  4.,  5.],\n",
       "       [ 2.,  3.,  4.,  5.,  6.],\n",
       "       [ 3.,  4.,  5.,  6.,  7.],\n",
       "       [ 4.,  5.,  6.,  7.,  8.]])"
      ]
     },
     "execution_count": 65,
     "metadata": {},
     "output_type": "execute_result"
    }
   ],
   "source": [
    "x= np.linspace(0,4,5)\n",
    "\n",
    "y_1= x.reshape(-1,1)\n",
    "y1=  x.reshape(1,-1)\n",
    "\n",
    "y1 + y_1\n",
    "y_1 + y1\n",
    "\n"
   ]
  },
  {
   "cell_type": "code",
   "execution_count": 66,
   "metadata": {
    "collapsed": false
   },
   "outputs": [
    {
     "data": {
      "text/plain": [
       "'\\n(array([[100],\\n        [200],\\n        [300]]), \\n        \\n array([[4, 5, 6, 7]]), \\n \\n array([[104, 105, 106, 107],\\n        [204, 205, 206, 207],\\n        [304, 305, 306, 307]]))\\n'"
      ]
     },
     "execution_count": 66,
     "metadata": {},
     "output_type": "execute_result"
    }
   ],
   "source": [
    "# ndarray 的 Broadcasting 運算\n",
    "\n",
    "x= np.array([100,200,300])\n",
    "y= np.array([4,5,6,7])\n",
    "\n",
    "#x+y\n",
    "'''\n",
    "---------------------------------------------------------------------------\n",
    "ValueError                                Traceback (most recent call last)\n",
    "<ipython-input-129-7c6121dd97fc> in <module>()\n",
    "      4 y= np.array([4,5,6,7])\n",
    "      5 \n",
    "----> 6 x+y\n",
    "      7 \"\"\"\n",
    "      8 ---------------------------------------------------------------------------\n",
    "\n",
    "ValueError: operands could not be broadcast together with shapes (3,) (4,) \n",
    "'''\n",
    "\n",
    "z1= x.reshape(-1,1) + y.reshape(1,-1)\n",
    "\n",
    "x.reshape(-1,1).shape, y.reshape(1,-1).shape, z1.shape\n",
    "'''\n",
    "((3, 1), (1, 4), (3, 4))\n",
    "'''\n",
    "\n",
    "x.reshape(-1,1), y.reshape(1,-1), z1\n",
    "'''\n",
    "(array([[100],\n",
    "        [200],\n",
    "        [300]]), \n",
    "        \n",
    " array([[4, 5, 6, 7]]), \n",
    " \n",
    " array([[104, 105, 106, 107],\n",
    "        [204, 205, 206, 207],\n",
    "        [304, 305, 306, 307]]))\n",
    "'''\n",
    "\n"
   ]
  },
  {
   "cell_type": "code",
   "execution_count": 67,
   "metadata": {
    "collapsed": false
   },
   "outputs": [
    {
     "data": {
      "text/plain": [
       "'\\n(array([[100, 200, 300]]), \\n \\n array([[4],\\n        [5],\\n        [6],\\n        [7]]), \\n \\n array([[104, 204, 304],\\n        [105, 205, 305],\\n        [106, 206, 306],\\n        [107, 207, 307]]))\\n'"
      ]
     },
     "execution_count": 67,
     "metadata": {},
     "output_type": "execute_result"
    }
   ],
   "source": [
    "z2= x.reshape(1,-1) + y.reshape(-1,1)\n",
    "\n",
    "x.reshape(1,-1).shape, y.reshape(-1,1).shape, z2.shape\n",
    "'''\n",
    "((1, 3), (4, 1), (4, 3))\n",
    "'''\n",
    "\n",
    "x.reshape(1,-1), y.reshape(-1,1), z2\n",
    "'''\n",
    "(array([[100, 200, 300]]), \n",
    " \n",
    " array([[4],\n",
    "        [5],\n",
    "        [6],\n",
    "        [7]]), \n",
    " \n",
    " array([[104, 204, 304],\n",
    "        [105, 205, 305],\n",
    "        [106, 206, 306],\n",
    "        [107, 207, 307]]))\n",
    "'''\n"
   ]
  },
  {
   "cell_type": "code",
   "execution_count": 68,
   "metadata": {
    "collapsed": false
   },
   "outputs": [
    {
     "data": {
      "text/plain": [
       "array([[106, 107, 108, 109],\n",
       "       [206, 207, 208, 209],\n",
       "       [306, 307, 308, 309]])"
      ]
     },
     "execution_count": 68,
     "metadata": {},
     "output_type": "execute_result"
    }
   ],
   "source": [
    "np.array([100,200,300]).reshape(-1,1) + np.array([6,7,8,9]).reshape(1,-1)"
   ]
  },
  {
   "cell_type": "code",
   "execution_count": 69,
   "metadata": {
    "collapsed": false
   },
   "outputs": [
    {
     "data": {
      "text/plain": [
       "array([[106, 107, 108, 109],\n",
       "       [206, 207, 208, 209],\n",
       "       [306, 307, 308, 309]])"
      ]
     },
     "execution_count": 69,
     "metadata": {},
     "output_type": "execute_result"
    }
   ],
   "source": [
    "+ np.array([6,7,8,9]).reshape(1,-1) + np.array([100,200,300]).reshape(-1,1) "
   ]
  },
  {
   "cell_type": "code",
   "execution_count": 70,
   "metadata": {
    "collapsed": false
   },
   "outputs": [
    {
     "data": {
      "text/plain": [
       "(array([[101, 102, 103],\n",
       "        [201, 202, 203]]),\n",
       " array([1000, 2000, 3000]),\n",
       " array([[101000, 204000,  30900],\n",
       "        [201000, 404000,  60900]]))"
      ]
     },
     "execution_count": 70,
     "metadata": {},
     "output_type": "execute_result"
    }
   ],
   "source": [
    "A= np.array\n",
    "\n",
    "x= A([100,200]).reshape(-1,1) + A([1,2,3]).reshape(1,-1)\n",
    "x, A([1000, 2000, 3000]), x * A([1000, 2000, 300])\n"
   ]
  },
  {
   "cell_type": "markdown",
   "metadata": {},
   "source": [
    "## Array Broadcasting in numpy\n",
    "\n",
    "http://scipy.github.io/old-wiki/pages/EricsBroadcastingDoc\n",
    "\n"
   ]
  },
  {
   "cell_type": "code",
   "execution_count": 71,
   "metadata": {
    "collapsed": false
   },
   "outputs": [
    {
     "data": {
      "text/plain": [
       "array([[ 10,  20,  30],\n",
       "       [400, 500, 600]])"
      ]
     },
     "execution_count": 71,
     "metadata": {},
     "output_type": "execute_result"
    }
   ],
   "source": [
    "import numpy as np\n",
    "import pylab as pl\n",
    "\n",
    "A= np.array\n",
    "M= np.matrix\n",
    "\n",
    "A([[1,2,3], [4,5,6]]) * A([10,100]).reshape(-1,1)\n",
    "\n",
    "\n",
    "\n",
    "\n",
    "\n",
    "\n"
   ]
  },
  {
   "cell_type": "code",
   "execution_count": 72,
   "metadata": {
    "collapsed": false
   },
   "outputs": [
    {
     "data": {
      "text/plain": [
       "<matplotlib.contour.QuadContourSet at 0x22bbb1fd390>"
      ]
     },
     "execution_count": 72,
     "metadata": {},
     "output_type": "execute_result"
    }
   ],
   "source": [
    "x= np.linspace(-10,10,101)\n",
    "x= x.reshape(1, -1)  # 1 row\n",
    "y= x.reshape(-1, 1)  # 1 collumn\n",
    "x,y\n",
    "'''\n",
    "(array([[ 0.,  1.,  2.,  3.,  4.]]), \n",
    " array([[ 0.],\n",
    "        [ 1.],\n",
    "        [ 2.],\n",
    "        [ 3.],\n",
    "        [ 4.]]))\n",
    "'''\n",
    "\n",
    "z=  np.exp(- (x**2+y**2))\n",
    "\n",
    "\n",
    "z+= np.exp(- ((x-5)**2+(y-5)**2))\n",
    "z+= np.exp(- ((x+5)**2+(y-5)**2))\n",
    "z+= np.exp(- ((x-2)**2+(y-2)**2))\n",
    "\n",
    "\n",
    "\n",
    "\n",
    "import pylab as pl\n",
    "pl.imshow(z)\n",
    "pl.contour(z)\n",
    "#z"
   ]
  },
  {
   "cell_type": "code",
   "execution_count": 73,
   "metadata": {
    "collapsed": false
   },
   "outputs": [],
   "source": [
    "# 3D plotting\n",
    "from mpl_toolkits.mplot3d import Axes3D\n",
    "ax= pl.axes(projection='3d')\n",
    "xgrid, ygrid = np.meshgrid(x, y.ravel())\n",
    "ax.plot_surface(xgrid, ygrid, z, cmap=pl.cm.jet, cstride=1, rstride=1, linewidth=0);\n"
   ]
  },
  {
   "cell_type": "code",
   "execution_count": 74,
   "metadata": {
    "collapsed": false
   },
   "outputs": [
    {
     "data": {
      "text/plain": [
       "(array([[ 0,  1,  2],\n",
       "        [10, 20, 30]]),\n",
       " array([ 0,  1,  2, 10, 20, 30]),\n",
       " array([ 0,  1,  2, 10, 20, 30]),\n",
       " array([[ 0,  1,  2, 10, 20, 30]]))"
      ]
     },
     "execution_count": 74,
     "metadata": {},
     "output_type": "execute_result"
    }
   ],
   "source": [
    "A=np.array\n",
    "x= A([[0,1,2], [10,20,30]])\n",
    "x, x.ravel(), x.flatten(), x.reshape(1,-1)\n"
   ]
  },
  {
   "cell_type": "code",
   "execution_count": 75,
   "metadata": {
    "collapsed": false
   },
   "outputs": [
    {
     "data": {
      "text/plain": [
       "'\\nmatrix([[140],\\n        [320]])\\n'"
      ]
     },
     "execution_count": 75,
     "metadata": {},
     "output_type": "execute_result"
    }
   ],
   "source": [
    "#\n",
    "# broadcasting vs matrix multiplication\n",
    "#\n",
    "x= np.array([[1,2,3], [4,5,6]])\n",
    "y= np.array([10,20])\n",
    "'''\n",
    "(array([[1, 2, 3],\n",
    "        [4, 5, 6]]), \n",
    " array([10, 20]))\n",
    "'''\n",
    "x*y.reshape(-1,1)\n",
    "\n",
    "z= np.array([10,20,30])\n",
    "\n",
    "np.matrix(x)*np.matrix(z.reshape(-1,1))\n",
    "'''\n",
    "matrix([[140],\n",
    "        [320]])\n",
    "'''"
   ]
  },
  {
   "cell_type": "markdown",
   "metadata": {},
   "source": [
    "## 這一段最重要的是要熟悉 ndarray broadcasting 的用法\n",
    "\n",
    "![](https://goo.gl/BppnLH)\n",
    "![](https://goo.gl/6Lmgsp)\n",
    "![](https://goo.gl/nwegdC)"
   ]
  },
  {
   "cell_type": "code",
   "execution_count": 92,
   "metadata": {
    "collapsed": false
   },
   "outputs": [
    {
     "data": {
      "text/plain": [
       "(array([ 0.,  1.,  2.,  3.,  4.]), array([[ 0.],\n",
       "        [ 1.],\n",
       "        [ 2.],\n",
       "        [ 3.],\n",
       "        [ 4.]]), array([[ 0.,  1.,  2.,  3.,  4.],\n",
       "        [ 1.,  2.,  3.,  4.,  5.],\n",
       "        [ 2.,  3.,  4.,  5.,  6.],\n",
       "        [ 3.,  4.,  5.,  6.,  7.],\n",
       "        [ 4.,  5.,  6.,  7.,  8.]]))"
      ]
     },
     "execution_count": 92,
     "metadata": {},
     "output_type": "execute_result"
    }
   ],
   "source": [
    "import numpy as np\n",
    "import pylab as pl\n",
    "A= np.array\n",
    "\n",
    "x= np.linspace(0, 4, 5)\n",
    "y= x.reshape(-1,1)\n",
    "\n",
    "z= x+y\n",
    "x,y,z\n"
   ]
  },
  {
   "cell_type": "markdown",
   "metadata": {
    "collapsed": true
   },
   "source": [
    "##  Python 之 科學運算\n",
    "\n",
    "If you are not yet familiar with Python's scientific libraries or need a refresher, \n",
    "please see the following resources:\n",
    "\n",
    "NumPy: http://wiki.scipy.org/Tentative_NumPy_Tutorial\n",
    "\n",
    "Pandas: http://pandas.pydata.org/pandas-docs/stable/tutorials.html\n",
    "\n",
    "Matplotlib: http://matplotlib.org/users/beginner.html"
   ]
  },
  {
   "cell_type": "code",
   "execution_count": 1,
   "metadata": {
    "collapsed": true
   },
   "outputs": [],
   "source": [
    "import numpy as np\n"
   ]
  },
  {
   "cell_type": "code",
   "execution_count": 57,
   "metadata": {
    "collapsed": false
   },
   "outputs": [
    {
     "data": {
      "text/plain": [
       "array([ 0. ,  0.1,  0.2,  0.3,  0.4,  0.5,  0.6,  0.7,  0.8,  0.9,  1. ,\n",
       "        1.1,  1.2,  1.3,  1.4,  1.5,  1.6,  1.7,  1.8,  1.9,  2. ,  2.1,\n",
       "        2.2,  2.3,  2.4,  2.5,  2.6,  2.7,  2.8,  2.9,  3. ,  3.1,  3.2,\n",
       "        3.3,  3.4,  3.5,  3.6,  3.7,  3.8,  3.9,  4. ,  4.1,  4.2,  4.3,\n",
       "        4.4,  4.5,  4.6,  4.7,  4.8,  4.9,  5. ,  5.1,  5.2,  5.3,  5.4,\n",
       "        5.5,  5.6,  5.7,  5.8,  5.9,  6. ,  6.1,  6.2,  6.3,  6.4,  6.5,\n",
       "        6.6,  6.7,  6.8,  6.9,  7. ,  7.1,  7.2,  7.3,  7.4,  7.5,  7.6,\n",
       "        7.7,  7.8,  7.9,  8. ,  8.1,  8.2,  8.3,  8.4,  8.5,  8.6,  8.7,\n",
       "        8.8,  8.9,  9. ,  9.1,  9.2,  9.3,  9.4,  9.5,  9.6,  9.7,  9.8,\n",
       "        9.9])"
      ]
     },
     "execution_count": 57,
     "metadata": {},
     "output_type": "execute_result"
    }
   ],
   "source": [
    "# 產生 0 .. 10 (不包含10)，間隔 .1 的 array\n",
    "np.arange(0, 10, .1)"
   ]
  },
  {
   "cell_type": "code",
   "execution_count": 59,
   "metadata": {
    "collapsed": false
   },
   "outputs": [
    {
     "data": {
      "text/plain": [
       "array([  0. ,   0.1,   0.2,   0.3,   0.4,   0.5,   0.6,   0.7,   0.8,\n",
       "         0.9,   1. ,   1.1,   1.2,   1.3,   1.4,   1.5,   1.6,   1.7,\n",
       "         1.8,   1.9,   2. ,   2.1,   2.2,   2.3,   2.4,   2.5,   2.6,\n",
       "         2.7,   2.8,   2.9,   3. ,   3.1,   3.2,   3.3,   3.4,   3.5,\n",
       "         3.6,   3.7,   3.8,   3.9,   4. ,   4.1,   4.2,   4.3,   4.4,\n",
       "         4.5,   4.6,   4.7,   4.8,   4.9,   5. ,   5.1,   5.2,   5.3,\n",
       "         5.4,   5.5,   5.6,   5.7,   5.8,   5.9,   6. ,   6.1,   6.2,\n",
       "         6.3,   6.4,   6.5,   6.6,   6.7,   6.8,   6.9,   7. ,   7.1,\n",
       "         7.2,   7.3,   7.4,   7.5,   7.6,   7.7,   7.8,   7.9,   8. ,\n",
       "         8.1,   8.2,   8.3,   8.4,   8.5,   8.6,   8.7,   8.8,   8.9,\n",
       "         9. ,   9.1,   9.2,   9.3,   9.4,   9.5,   9.6,   9.7,   9.8,\n",
       "         9.9,  10. ])"
      ]
     },
     "execution_count": 59,
     "metadata": {},
     "output_type": "execute_result"
    }
   ],
   "source": [
    "# 產生 0 .. 10 (包含10)，共 101 點，等間隔 的 array\n",
    "np.linspace(0, 10,101)"
   ]
  },
  {
   "cell_type": "code",
   "execution_count": 60,
   "metadata": {
    "collapsed": false
   },
   "outputs": [
    {
     "data": {
      "text/plain": [
       "array([ 0.5488135 ,  0.71518937,  0.60276338,  0.54488318,  0.4236548 ,\n",
       "        0.64589411,  0.43758721,  0.891773  ,  0.96366276,  0.38344152])"
      ]
     },
     "execution_count": 60,
     "metadata": {},
     "output_type": "execute_result"
    }
   ],
   "source": [
    "# 固定隨機種子，產生 10 個隨機點 (0~1, 均勻分布)\n",
    "np.random.seed(0)\n",
    "np.random.random(10)\n"
   ]
  },
  {
   "cell_type": "code",
   "execution_count": 61,
   "metadata": {
    "collapsed": false
   },
   "outputs": [
    {
     "data": {
      "text/plain": [
       "(array([ 0.,  0.,  0.,  0.,  0.,  0.,  0.,  0.,  0.,  0.]),\n",
       " array([ 1.,  1.,  1.,  1.,  1.,  1.,  1.,  1.,  1.,  1.]),\n",
       " array([ 0.,  0.,  0.,  0.,  0.,  0.,  0.,  0.,  0.,  0.]))"
      ]
     },
     "execution_count": 61,
     "metadata": {},
     "output_type": "execute_result"
    }
   ],
   "source": [
    "np.zeros(10), np.ones(10), np.empty(10)\n"
   ]
  },
  {
   "cell_type": "code",
   "execution_count": 62,
   "metadata": {
    "collapsed": false
   },
   "outputs": [
    {
     "data": {
      "text/plain": [
       "((5,), (5,))"
      ]
     },
     "execution_count": 62,
     "metadata": {},
     "output_type": "execute_result"
    }
   ],
   "source": [
    "x= np.array([1,2,3,4,5])\n",
    "y= np.array([5,4,3,2,1])\n",
    "\n",
    "x.shape, y.shape"
   ]
  },
  {
   "cell_type": "code",
   "execution_count": 66,
   "metadata": {
    "collapsed": false
   },
   "outputs": [
    {
     "data": {
      "text/plain": [
       "(array([6, 6, 6, 6, 6]),\n",
       " array([-4, -2,  0,  2,  4]),\n",
       " array([5, 8, 9, 8, 5]),\n",
       " array([ 0.2,  0.5,  1. ,  2. ,  5. ]),\n",
       " array([ 1, 16, 27, 16,  5], dtype=int32),\n",
       " array([ 0.84147098,  0.90929743,  0.14112001, -0.7568025 , -0.95892427]))"
      ]
     },
     "execution_count": 66,
     "metadata": {},
     "output_type": "execute_result"
    }
   ],
   "source": [
    "x+y, x-y, x*y, x/y, x**y, np.sin(x)"
   ]
  },
  {
   "cell_type": "code",
   "execution_count": 74,
   "metadata": {
    "collapsed": false
   },
   "outputs": [
    {
     "data": {
      "text/plain": [
       "((1, 5), (5, 1), array([[1, 2, 3, 4, 5]]), array([[5],\n",
       "        [4],\n",
       "        [3],\n",
       "        [2],\n",
       "        [1]]))"
      ]
     },
     "execution_count": 74,
     "metadata": {},
     "output_type": "execute_result"
    }
   ],
   "source": [
    "u= x.reshape(1,-1)\n",
    "v= y.reshape(-1,1)\n",
    "u.shape, v.shape, u, v"
   ]
  },
  {
   "cell_type": "markdown",
   "metadata": {},
   "source": [
    "# Broadcasting"
   ]
  },
  {
   "cell_type": "code",
   "execution_count": 73,
   "metadata": {
    "collapsed": false
   },
   "outputs": [
    {
     "data": {
      "text/plain": [
       "array([[ 6,  7,  8,  9, 10],\n",
       "       [ 5,  6,  7,  8,  9],\n",
       "       [ 4,  5,  6,  7,  8],\n",
       "       [ 3,  4,  5,  6,  7],\n",
       "       [ 2,  3,  4,  5,  6]])"
      ]
     },
     "execution_count": 73,
     "metadata": {},
     "output_type": "execute_result"
    }
   ],
   "source": [
    "u+v # broadcast.... +, -, *, / 都一樣"
   ]
  },
  {
   "cell_type": "code",
   "execution_count": 84,
   "metadata": {
    "collapsed": false
   },
   "outputs": [
    {
     "data": {
      "text/plain": [
       "array([[ 5, 10, 15, 20, 25],\n",
       "       [ 4,  8, 12, 16, 20],\n",
       "       [ 3,  6,  9, 12, 15],\n",
       "       [ 2,  4,  6,  8, 10],\n",
       "       [ 1,  2,  3,  4,  5]])"
      ]
     },
     "execution_count": 84,
     "metadata": {},
     "output_type": "execute_result"
    }
   ],
   "source": [
    "u*v # broadcasting 相乘"
   ]
  },
  {
   "cell_type": "code",
   "execution_count": 85,
   "metadata": {
    "collapsed": false
   },
   "outputs": [
    {
     "data": {
      "text/plain": [
       "array([[ 5, 10, 15, 20, 25],\n",
       "       [ 4,  8, 12, 16, 20],\n",
       "       [ 3,  6,  9, 12, 15],\n",
       "       [ 2,  4,  6,  8, 10],\n",
       "       [ 1,  2,  3,  4,  5]])"
      ]
     },
     "execution_count": 85,
     "metadata": {},
     "output_type": "execute_result"
    }
   ],
   "source": [
    "v*u # broadcasting 相乘"
   ]
  },
  {
   "cell_type": "code",
   "execution_count": 86,
   "metadata": {
    "collapsed": false
   },
   "outputs": [
    {
     "data": {
      "text/plain": [
       "array([[35]])"
      ]
     },
     "execution_count": 86,
     "metadata": {},
     "output_type": "execute_result"
    }
   ],
   "source": [
    "u@v  # 矩陣乘法， python 3.5 以後新增語法"
   ]
  },
  {
   "cell_type": "code",
   "execution_count": 87,
   "metadata": {
    "collapsed": false
   },
   "outputs": [
    {
     "data": {
      "text/plain": [
       "array([[ 5, 10, 15, 20, 25],\n",
       "       [ 4,  8, 12, 16, 20],\n",
       "       [ 3,  6,  9, 12, 15],\n",
       "       [ 2,  4,  6,  8, 10],\n",
       "       [ 1,  2,  3,  4,  5]])"
      ]
     },
     "execution_count": 87,
     "metadata": {},
     "output_type": "execute_result"
    }
   ],
   "source": [
    "v@u  # 矩陣乘法， python 3.5 以後新增語法"
   ]
  },
  {
   "cell_type": "code",
   "execution_count": 88,
   "metadata": {
    "collapsed": false
   },
   "outputs": [
    {
     "data": {
      "text/plain": [
       "matrix([[35]])"
      ]
     },
     "execution_count": 88,
     "metadata": {},
     "output_type": "execute_result"
    }
   ],
   "source": [
    "# python 3.5 以前 的 matrix 運算，需透過 np.matrix \n",
    "np.matrix(u) * np.matrix(v)"
   ]
  },
  {
   "cell_type": "code",
   "execution_count": 89,
   "metadata": {
    "collapsed": false
   },
   "outputs": [
    {
     "data": {
      "text/plain": [
       "matrix([[ 5, 10, 15, 20, 25],\n",
       "        [ 4,  8, 12, 16, 20],\n",
       "        [ 3,  6,  9, 12, 15],\n",
       "        [ 2,  4,  6,  8, 10],\n",
       "        [ 1,  2,  3,  4,  5]])"
      ]
     },
     "execution_count": 89,
     "metadata": {},
     "output_type": "execute_result"
    }
   ],
   "source": [
    "np.matrix(v) * np.matrix(u)"
   ]
  },
  {
   "cell_type": "code",
   "execution_count": 101,
   "metadata": {
    "collapsed": false
   },
   "outputs": [
    {
     "data": {
      "text/plain": [
       "((2, 3, 4), array([[[ 0,  1,  2,  3],\n",
       "         [ 4,  5,  6,  7],\n",
       "         [ 8,  9, 10, 11]],\n",
       " \n",
       "        [[12, 13, 14, 15],\n",
       "         [16, 17, 18, 19],\n",
       "         [20, 21, 22, 23]]]))"
      ]
     },
     "execution_count": 101,
     "metadata": {},
     "output_type": "execute_result"
    }
   ],
   "source": [
    "x= np.arange(24).reshape(2,3,4)\n",
    "\n",
    "x.shape, x\n",
    "'''\n",
    "((2, 3, 4), \n",
    " \n",
    " array([[[ 0,  1,  2,  3],\n",
    "         [ 4,  5,  6,  7],\n",
    "         [ 8,  9, 10, 11]],\n",
    " \n",
    "        [[12, 13, 14, 15],\n",
    "         [16, 17, 18, 19],\n",
    "         [20, 21, 22, 23]]]))\n",
    "'''\n",
    "\n",
    "x.sum(), x.sum(axis=0), x.sum(axis=1), x.sum(axis=2)\n",
    "'''\n",
    "(276, \n",
    "\n",
    " array([[12, 14, 16, 18],\n",
    "        [20, 22, 24, 26],\n",
    "        [28, 30, 32, 34]]), \n",
    "        \n",
    " array([[12, 15, 18, 21],\n",
    "        [48, 51, 54, 57]]), \n",
    "        \n",
    " array([[ 6, 22, 38],\n",
    "        [54, 70, 86]]))\n",
    "'''"
   ]
  },
  {
   "cell_type": "code",
   "execution_count": 100,
   "metadata": {
    "collapsed": false
   },
   "outputs": [
    {
     "data": {
      "text/plain": [
       "(276, array([[12, 14, 16, 18],\n",
       "        [20, 22, 24, 26],\n",
       "        [28, 30, 32, 34]]), array([[12, 15, 18, 21],\n",
       "        [48, 51, 54, 57]]), array([[ 6, 22, 38],\n",
       "        [54, 70, 86]]))"
      ]
     },
     "execution_count": 100,
     "metadata": {},
     "output_type": "execute_result"
    }
   ],
   "source": []
  },
  {
   "cell_type": "code",
   "execution_count": 102,
   "metadata": {
    "collapsed": true
   },
   "outputs": [],
   "source": [
    "t0= np.linspace(0,1,11)"
   ]
  },
  {
   "cell_type": "code",
   "execution_count": 103,
   "metadata": {
    "collapsed": true
   },
   "outputs": [],
   "source": [
    "t1= np.linspace(1,2,11)\n"
   ]
  },
  {
   "cell_type": "code",
   "execution_count": 104,
   "metadata": {
    "collapsed": false
   },
   "outputs": [
    {
     "data": {
      "text/plain": [
       "(array([ 0. ,  0.1,  0.2,  0.3,  0.4,  0.5,  0.6,  0.7,  0.8,  0.9,  1. ]),\n",
       " array([ 1. ,  1.1,  1.2,  1.3,  1.4,  1.5,  1.6,  1.7,  1.8,  1.9,  2. ]))"
      ]
     },
     "execution_count": 104,
     "metadata": {},
     "output_type": "execute_result"
    }
   ],
   "source": [
    "t0, t1"
   ]
  },
  {
   "cell_type": "code",
   "execution_count": 109,
   "metadata": {
    "collapsed": false
   },
   "outputs": [
    {
     "data": {
      "text/plain": [
       "array([[ 0. ,  0.1,  0.2,  0.3,  0.4,  0.5,  0.6,  0.7,  0.8,  0.9,  1. ],\n",
       "       [ 1. ,  1.1,  1.2,  1.3,  1.4,  1.5,  1.6,  1.7,  1.8,  1.9,  2. ]])"
      ]
     },
     "execution_count": 109,
     "metadata": {},
     "output_type": "execute_result"
    }
   ],
   "source": [
    "np.row_stack((t0,t1))"
   ]
  },
  {
   "cell_type": "code",
   "execution_count": null,
   "metadata": {
    "collapsed": true
   },
   "outputs": [],
   "source": []
  }
 ],
 "metadata": {
  "anaconda-cloud": {},
  "kernelspec": {
   "display_name": "Python [Root]",
   "language": "python",
   "name": "Python [Root]"
  },
  "language_info": {
   "codemirror_mode": {
    "name": "ipython",
    "version": 3
   },
   "file_extension": ".py",
   "mimetype": "text/x-python",
   "name": "python",
   "nbconvert_exporter": "python",
   "pygments_lexer": "ipython3",
   "version": "3.5.2"
  }
 },
 "nbformat": 4,
 "nbformat_minor": 0
}
