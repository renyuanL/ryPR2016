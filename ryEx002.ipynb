{
 "cells": [
  {
   "cell_type": "markdown",
   "metadata": {},
   "source": [
    "## Follow : 02 Scientific Computing Tools in Python\n",
    "之練習\n"
   ]
  },
  {
   "cell_type": "code",
   "execution_count": null,
   "metadata": {
    "collapsed": false
   },
   "outputs": [],
   "source": [
    "import numpy as np\n",
    "\n",
    "rs= np.random.RandomState(seed= 123) # 設定 seed，會讓所產生的 隨機變數【固定】，對教學說明很有幫助。\n",
    "\n",
    "X= rs.uniform(low= 0.0, high= 1.0, size= (3,5))\n",
    "'''\n",
    "array([[ 0.69646919,  0.28613933,  0.22685145,  0.55131477,  0.71946897],\n",
    "       [ 0.42310646,  0.9807642 ,  0.68482974,  0.4809319 ,  0.39211752],\n",
    "       [ 0.34317802,  0.72904971,  0.43857224,  0.0596779 ,  0.39804426]])\n",
    "'''\n",
    "print(X)"
   ]
  },
  {
   "cell_type": "code",
   "execution_count": null,
   "metadata": {
    "collapsed": false
   },
   "outputs": [],
   "source": [
    "print(X[0,0])\n",
    "print(X[0,:]) # 取出 橫 row     0，   顯示為 橫 row\n",
    "print(X[:,0]) # 取出 縱 collumn 0，但 顯示為 橫 row\n",
    "\n",
    "row0= X[0,:]\n",
    "col0= X[:,0]\n",
    "\n",
    "print(row0)\n",
    "print(col0)\n",
    "print(col0[:,np.newaxis]) # 若要讓 col0 顯示為 縱，需要如此做。\n",
    "\n",
    "# 請注意一下，他們的 shape 之間的差異。\n",
    "print(row0.shape)\n",
    "print(col0.shape)\n",
    "print(col0[:,np.newaxis].shape)\n"
   ]
  },
  {
   "cell_type": "code",
   "execution_count": null,
   "metadata": {
    "collapsed": false
   },
   "outputs": [],
   "source": [
    "y10= np.linspace(0, 1, 10) # 0 .. 1 之間，共取 10 點\n",
    "y11= np.linspace(0, 1, 11) # 0 .. 1 之間，共取 11 點，頭尾都取，多加 1點比較好看。\n",
    "\n",
    "print(y10)\n",
    "print(y11)\n"
   ]
  },
  {
   "cell_type": "code",
   "execution_count": null,
   "metadata": {
    "collapsed": false
   },
   "outputs": [],
   "source": [
    "# 再強調 橫、縱 形狀的 array 之表示\n",
    "print(y11)\n",
    "print(y11[:,np.newaxis])"
   ]
  },
  {
   "cell_type": "code",
   "execution_count": null,
   "metadata": {
    "collapsed": false
   },
   "outputs": [],
   "source": [
    "X"
   ]
  },
  {
   "cell_type": "code",
   "execution_count": null,
   "metadata": {
    "collapsed": false
   },
   "outputs": [],
   "source": [
    "X.shape"
   ]
  },
  {
   "cell_type": "code",
   "execution_count": null,
   "metadata": {
    "collapsed": false
   },
   "outputs": [],
   "source": [
    "# 改變 ndarray 的 shape\n",
    "\n",
    "x1=  X.reshape(1,-1)\n",
    "x3=  X.reshape(3,-1)\n",
    "x5=  X.reshape(5,-1)\n",
    "x15= X.reshape(15,-1)\n",
    "print(x1, x3, x5, x15)\n",
    "print(x1.shape, x3.shape, x5.shape, x15.shape)\n",
    "\n"
   ]
  },
  {
   "cell_type": "code",
   "execution_count": null,
   "metadata": {
    "collapsed": false
   },
   "outputs": [],
   "source": [
    "# 特別注意以下3種 \"1維\" 陣列之 形狀差異。\n",
    "\n",
    "xf=  X.flatten()\n",
    "x1=  X.reshape(1,-1)\n",
    "x_1= X.reshape(-1,1)\n",
    "\n",
    "xf, x1, x_1\n",
    "xf.shape, x1.shape, x_1.shape\n",
    "\n"
   ]
  },
  {
   "cell_type": "code",
   "execution_count": null,
   "metadata": {
    "collapsed": false
   },
   "outputs": [],
   "source": [
    "X"
   ]
  },
  {
   "cell_type": "code",
   "execution_count": null,
   "metadata": {
    "collapsed": false
   },
   "outputs": [],
   "source": [
    "# 取出 X 的 col 0, 2, 4\n",
    "X[:, [0,2,4]]\n"
   ]
  },
  {
   "cell_type": "code",
   "execution_count": null,
   "metadata": {
    "collapsed": false
   },
   "outputs": [],
   "source": [
    "# 把 X 的 縱 collumn 隨便亂調\n",
    "col= list(range(X.shape[1]))\n",
    "np.random.shuffle(col)\n",
    "X, col, X[:, col]"
   ]
  },
  {
   "cell_type": "code",
   "execution_count": null,
   "metadata": {
    "collapsed": false
   },
   "outputs": [],
   "source": [
    "# 把 X 的 橫 row 隨便亂調\n",
    "row= list(range(X.shape[0]))\n",
    "np.random.shuffle(row)\n",
    "X, row, X[row, :]"
   ]
  },
  {
   "cell_type": "markdown",
   "metadata": {},
   "source": [
    "## ryComment:\n",
    "\n",
    "有關 矩陣 matrix，\n",
    "台灣過去的數學教育採用 橫向 row 為【列】，縱向 collumn 為【行】之命名方式，\n",
    "恰與日本所用漢字相反，日本採用 橫向 row 為【行】，縱向 collumn 為【列】之命名方式。\n",
    "\n",
    "我個人猜測是台灣過去的政府刻意【去日本化】的結果！\n",
    "\n",
    "後來的中華人民共和國也採用了日本的命名方式，\n",
    "結果造就了唯獨台灣使用 row=橫=列，collumn=縱=行 的特異。\n",
    "\n",
    "我個人的意見是台灣的數學界應該要改過來，讓 row=橫=【行】，collumn=縱=【列】\n",
    "\n",
    "原因至少有以下幾項：\n",
    "1. 【橫行霸道】是一個有名的四字成語，橫行橫行，橫==行\n",
    "2. 描述一個【行列矩陣】時，常說：這是一個 5x3 的矩陣，可以很直覺的說這是 【5 行，3 列】，不必倒置成 5列 3行。"
   ]
  },
  {
   "cell_type": "code",
   "execution_count": null,
   "metadata": {
    "collapsed": false
   },
   "outputs": [],
   "source": [
    "## %pylab inline"
   ]
  },
  {
   "cell_type": "code",
   "execution_count": null,
   "metadata": {
    "collapsed": true
   },
   "outputs": [],
   "source": [
    "import pylab as pl"
   ]
  },
  {
   "cell_type": "code",
   "execution_count": null,
   "metadata": {
    "collapsed": true
   },
   "outputs": [],
   "source": [
    "x= np.linspace(0, 10, 101)"
   ]
  },
  {
   "cell_type": "code",
   "execution_count": null,
   "metadata": {
    "collapsed": false
   },
   "outputs": [],
   "source": [
    "y= np.sin(x)\n",
    "pl.plot(x,y)"
   ]
  },
  {
   "cell_type": "code",
   "execution_count": null,
   "metadata": {
    "collapsed": false
   },
   "outputs": [],
   "source": [
    "x= np.random.normal(size=100)\n",
    "y= np.random.normal(size=100)\n",
    "#pl.plot(x,y)\n",
    "pl.scatter(x,y)"
   ]
  },
  {
   "cell_type": "code",
   "execution_count": null,
   "metadata": {
    "collapsed": false
   },
   "outputs": [],
   "source": [
    "x= np.linspace(0,4,5)\n",
    "\n",
    "y_1= x.reshape(-1,1)\n",
    "y1=  x.reshape(1,-1)\n",
    "\n",
    "y1 + y_1\n",
    "y_1 + y1\n",
    "\n"
   ]
  },
  {
   "cell_type": "code",
   "execution_count": null,
   "metadata": {
    "collapsed": false
   },
   "outputs": [],
   "source": [
    "# ndarray 的 Broadcasting 運算\n",
    "\n",
    "x= np.array([100,200,300])\n",
    "y= np.array([4,5,6,7])\n",
    "\n",
    "#x+y\n",
    "'''\n",
    "---------------------------------------------------------------------------\n",
    "ValueError                                Traceback (most recent call last)\n",
    "<ipython-input-129-7c6121dd97fc> in <module>()\n",
    "      4 y= np.array([4,5,6,7])\n",
    "      5 \n",
    "----> 6 x+y\n",
    "      7 \"\"\"\n",
    "      8 ---------------------------------------------------------------------------\n",
    "\n",
    "ValueError: operands could not be broadcast together with shapes (3,) (4,) \n",
    "'''\n",
    "\n",
    "z1= x.reshape(-1,1) + y.reshape(1,-1)\n",
    "\n",
    "x.reshape(-1,1).shape, y.reshape(1,-1).shape, z1.shape\n",
    "'''\n",
    "((3, 1), (1, 4), (3, 4))\n",
    "'''\n",
    "\n",
    "x.reshape(-1,1), y.reshape(1,-1), z1\n",
    "'''\n",
    "(array([[100],\n",
    "        [200],\n",
    "        [300]]), \n",
    "        \n",
    " array([[4, 5, 6, 7]]), \n",
    " \n",
    " array([[104, 105, 106, 107],\n",
    "        [204, 205, 206, 207],\n",
    "        [304, 305, 306, 307]]))\n",
    "'''\n",
    "\n"
   ]
  },
  {
   "cell_type": "code",
   "execution_count": null,
   "metadata": {
    "collapsed": false
   },
   "outputs": [],
   "source": [
    "z2= x.reshape(1,-1) + y.reshape(-1,1)\n",
    "\n",
    "x.reshape(1,-1).shape, y.reshape(-1,1).shape, z2.shape\n",
    "'''\n",
    "((1, 3), (4, 1), (4, 3))\n",
    "'''\n",
    "\n",
    "x.reshape(1,-1), y.reshape(-1,1), z2\n",
    "'''\n",
    "(array([[100, 200, 300]]), \n",
    " \n",
    " array([[4],\n",
    "        [5],\n",
    "        [6],\n",
    "        [7]]), \n",
    " \n",
    " array([[104, 204, 304],\n",
    "        [105, 205, 305],\n",
    "        [106, 206, 306],\n",
    "        [107, 207, 307]]))\n",
    "'''\n"
   ]
  },
  {
   "cell_type": "code",
   "execution_count": null,
   "metadata": {
    "collapsed": false
   },
   "outputs": [],
   "source": [
    "np.array([100,200,300]).reshape(-1,1) + np.array([6,7,8,9]).reshape(1,-1)"
   ]
  },
  {
   "cell_type": "code",
   "execution_count": null,
   "metadata": {
    "collapsed": false
   },
   "outputs": [],
   "source": [
    "+ np.array([6,7,8,9]).reshape(1,-1) + np.array([100,200,300]).reshape(-1,1) "
   ]
  },
  {
   "cell_type": "code",
   "execution_count": null,
   "metadata": {
    "collapsed": false
   },
   "outputs": [],
   "source": [
    "A= np.array\n",
    "\n",
    "x= A([100,200]).reshape(-1,1) + A([1,2,3]).reshape(1,-1)\n",
    "x, A([1000, 2000, 3000]), x * A([1000, 2000, 300])\n"
   ]
  },
  {
   "cell_type": "markdown",
   "metadata": {},
   "source": [
    "## Array Broadcasting in numpy\n",
    "\n",
    "http://scipy.github.io/old-wiki/pages/EricsBroadcastingDoc\n",
    "\n"
   ]
  },
  {
   "cell_type": "code",
   "execution_count": 47,
   "metadata": {
    "collapsed": false
   },
   "outputs": [
    {
     "data": {
      "text/plain": [
       "-3.0000000000000013"
      ]
     },
     "execution_count": 47,
     "metadata": {},
     "output_type": "execute_result"
    }
   ],
   "source": [
    "import numpy as np\n",
    "import pylab as pl\n",
    "\n",
    "A= np.array\n",
    "M= np.matrix\n",
    "\n",
    "A([[1,2,3], [4,5,6]]) * A([10,100]).reshape(-1,1)\n",
    "\n",
    "\n",
    "\n",
    "\n",
    "\n",
    "\n"
   ]
  },
  {
   "cell_type": "code",
   "execution_count": 2,
   "metadata": {
    "collapsed": false
   },
   "outputs": [
    {
     "data": {
      "text/plain": [
       "<matplotlib.contour.QuadContourSet at 0x22bb9d84940>"
      ]
     },
     "execution_count": 2,
     "metadata": {},
     "output_type": "execute_result"
    }
   ],
   "source": [
    "x= np.linspace(-10,10,101)\n",
    "x= x.reshape(1, -1)  # 1 row\n",
    "y= x.reshape(-1, 1)  # 1 collumn\n",
    "x,y\n",
    "'''\n",
    "(array([[ 0.,  1.,  2.,  3.,  4.]]), \n",
    " array([[ 0.],\n",
    "        [ 1.],\n",
    "        [ 2.],\n",
    "        [ 3.],\n",
    "        [ 4.]]))\n",
    "'''\n",
    "\n",
    "z=  np.exp(- (x**2+y**2))\n",
    "\n",
    "\n",
    "z+= np.exp(- ((x-5)**2+(y-5)**2))\n",
    "z+= np.exp(- ((x+5)**2+(y-5)**2))\n",
    "z+= np.exp(- ((x-2)**2+(y-2)**2))\n",
    "\n",
    "\n",
    "\n",
    "\n",
    "import pylab as pl\n",
    "pl.imshow(z)\n",
    "pl.contour(z)\n",
    "#z"
   ]
  },
  {
   "cell_type": "code",
   "execution_count": 4,
   "metadata": {
    "collapsed": false
   },
   "outputs": [],
   "source": [
    "# 3D plotting\n",
    "from mpl_toolkits.mplot3d import Axes3D\n",
    "ax= pl.axes(projection='3d')\n",
    "xgrid, ygrid = np.meshgrid(x, y.ravel())\n",
    "ax.plot_surface(xgrid, ygrid, z, cmap=pl.cm.jet, cstride=1, rstride=1, linewidth=0);\n"
   ]
  },
  {
   "cell_type": "code",
   "execution_count": 21,
   "metadata": {
    "collapsed": false
   },
   "outputs": [
    {
     "data": {
      "text/plain": [
       "(array([[ 0,  1,  2],\n",
       "        [10, 20, 30]]),\n",
       " array([ 0,  1,  2, 10, 20, 30]),\n",
       " array([ 0,  1,  2, 10, 20, 30]),\n",
       " array([[ 0,  1,  2, 10, 20, 30]]))"
      ]
     },
     "execution_count": 21,
     "metadata": {},
     "output_type": "execute_result"
    }
   ],
   "source": [
    "A=np.array\n",
    "x= A([[0,1,2], [10,20,30]])\n",
    "x, x.ravel(), x.flatten(), x.reshape(1,-1)\n"
   ]
  },
  {
   "cell_type": "code",
   "execution_count": null,
   "metadata": {
    "collapsed": false
   },
   "outputs": [],
   "source": [
    "#\n",
    "# broadcasting vs matrix multiplication\n",
    "#\n",
    "x= np.array([[1,2,3], [4,5,6]])\n",
    "y= np.array([10,20])\n",
    "'''\n",
    "(array([[1, 2, 3],\n",
    "        [4, 5, 6]]), \n",
    " array([10, 20]))\n",
    "'''\n",
    "x*y.reshape(-1,1)\n",
    "\n",
    "z= np.array([10,20,30])\n",
    "\n",
    "np.matrix(x)*np.matrix(z.reshape(-1,1))\n",
    "'''\n",
    "matrix([[140],\n",
    "        [320]])\n",
    "'''"
   ]
  },
  {
   "cell_type": "code",
   "execution_count": null,
   "metadata": {
    "collapsed": true
   },
   "outputs": [],
   "source": []
  },
  {
   "cell_type": "code",
   "execution_count": null,
   "metadata": {
    "collapsed": false
   },
   "outputs": [],
   "source": [
    "x= np.linspace(0,4,5)\n",
    "y= x[:, np.newaxis]\n",
    "\n",
    "z= y * np.sin(x) * np.cos(y) # 此行小心應對！\n",
    "\n",
    "z= y * x * y\n",
    "\n",
    "x.shape, y.shape, z.shape, \n",
    "\n",
    "x, y, z\n"
   ]
  },
  {
   "cell_type": "code",
   "execution_count": null,
   "metadata": {
    "collapsed": false
   },
   "outputs": [],
   "source": [
    "\n"
   ]
  },
  {
   "cell_type": "code",
   "execution_count": null,
   "metadata": {
    "collapsed": false
   },
   "outputs": [],
   "source": [
    "pl.imshow(z)"
   ]
  },
  {
   "cell_type": "code",
   "execution_count": null,
   "metadata": {
    "collapsed": false
   },
   "outputs": [],
   "source": [
    "pl.contour(z)"
   ]
  },
  {
   "cell_type": "code",
   "execution_count": null,
   "metadata": {
    "collapsed": false
   },
   "outputs": [],
   "source": [
    "pl.imshow(z)\n",
    "pl.contour(z)\n",
    "\n"
   ]
  },
  {
   "cell_type": "code",
   "execution_count": null,
   "metadata": {
    "collapsed": false
   },
   "outputs": [],
   "source": [
    "# 3D plotting\n",
    "from mpl_toolkits.mplot3d import Axes3D\n",
    "ax = pl.axes(projection='3d')\n",
    "xgrid, ygrid = np.meshgrid(x, y.ravel())\n",
    "ax.plot_surface(xgrid, ygrid, im, cmap=pl.cm.jet, cstride=2, rstride=2, linewidth=0);"
   ]
  },
  {
   "cell_type": "code",
   "execution_count": null,
   "metadata": {
    "collapsed": false
   },
   "outputs": [],
   "source": [
    "# %load http://matplotlib.org/mpl_examples/pylab_examples/ellipse_collection.py\n",
    "import matplotlib.pyplot as plt\n",
    "import numpy as np\n",
    "from matplotlib.collections import EllipseCollection\n",
    "\n",
    "x = np.arange(10)\n",
    "y = np.arange(15)\n",
    "X, Y = np.meshgrid(x, y)\n",
    "\n",
    "XY = np.hstack((X.ravel()[:,np.newaxis], Y.ravel()[:,np.newaxis]))\n",
    "\n",
    "ww = X/10.0\n",
    "hh = Y/15.0\n",
    "aa = X*9\n",
    "\n",
    "fig, ax = plt.subplots()\n",
    "\n",
    "ec = EllipseCollection(ww, hh, aa, units='x', offsets=XY,\n",
    "                       transOffset=ax.transData)\n",
    "ec.set_array((X+Y).ravel())\n",
    "ax.add_collection(ec)\n",
    "ax.autoscale_view()\n",
    "ax.set_xlabel('X')\n",
    "ax.set_ylabel('y')\n",
    "cbar = plt.colorbar(ec)\n",
    "cbar.set_label('X+Y')\n",
    "plt.show()"
   ]
  },
  {
   "cell_type": "code",
   "execution_count": null,
   "metadata": {
    "collapsed": true
   },
   "outputs": [],
   "source": []
  }
 ],
 "metadata": {
  "anaconda-cloud": {},
  "kernelspec": {
   "display_name": "Python [Root]",
   "language": "python",
   "name": "Python [Root]"
  },
  "language_info": {
   "codemirror_mode": {
    "name": "ipython",
    "version": 3
   },
   "file_extension": ".py",
   "mimetype": "text/x-python",
   "name": "python",
   "nbconvert_exporter": "python",
   "pygments_lexer": "ipython3",
   "version": "3.5.2"
  }
 },
 "nbformat": 4,
 "nbformat_minor": 0
}
